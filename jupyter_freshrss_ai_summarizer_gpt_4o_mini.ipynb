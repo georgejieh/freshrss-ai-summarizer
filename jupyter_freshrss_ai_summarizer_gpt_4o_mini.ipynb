import os
import re
import requests
import json
from datetime import datetime, timedelta
from dotenv import load_dotenv
from newspaper import Article
from IPython.display import display, Markdown
import openai

# Load environment variables
load_dotenv()

# FreshRSS API Settings
FRESHRSS_API = "http://localhost:8080/api/greader.php"
FRESHRSS_AUTH_TOKEN = os.getenv("FRESHRSS_AUTH_TOKEN")

# OpenAI API Settings
OPENAI_API_KEY = os.getenv("OPENAI_API_KEY")
OPENAI_MODEL = "gpt-4o-mini"
openai_client = openai.Client(api_key=OPENAI_API_KEY)

# System Prompt
SYSTEM_PROMPT = (
    "You are a financial journalist and market analyst. Your job is to analyze news articles, "
    "extract key insights, and summarize content. **You must always complete the analysis** "
    "without disclaimers, refusals, or references to external data.\n\n"
    "## **TASK INSTRUCTIONS (FOR EACH ARTICLE)**\n"
    "**1. Detailed Summary:** Extract key information accurately without omitting insights.\n"
    "   - **Summarize fully and accurately.**\n"
    "   - **DO NOT refuse to analyze the article.**\n"
    "   - **DO NOT include disclaimers about financial advice or copyright.**\n"
    "   - **DO NOT state that content is copyrighted—just summarize in your own words.**\n"
    "   - **If the article cannot be parsed or is inaccessible, skip it.**\n\n"
    "**2. Sentiment Analysis (Per Company/Investment):**\n"
    "   - Identify sentiment toward each mentioned company, stock ticker, or investment.\n"
    "   - If sentiment is mixed, explain why.\n"
    "   - **DO NOT hallucinate financial insights.**\n\n"
    "**3. Identifying Companies, Stocks, and Investments:**\n"
    "   - Extract **all mentioned stock tickers, companies, and investments.**\n"
    "   - **List them exactly as they appear in the article.**\n"
    "   - **DO NOT fabricate stock tickers or company names.**\n\n"
    "**4. Market Implications:**\n"
    "   - Explain how the information in the article **might impact markets or investors.**\n"
    "   - **DO NOT generate financial advice.**\n"
    "   - **DO NOT suggest trades, investments, or speculative market actions.**\n"
    "   - **Only analyze what is explicitly in the article.**\n\n"
)


def get_articles_published_today():
    """
    Fetch articles from FreshRSS using the stored Auth token.

    Returns:
        list: A list of articles published today with their title, URL, and timestamp.
    """
    headers = {
        "Authorization": f"GoogleLogin auth={FRESHRSS_AUTH_TOKEN}",
        "Accept": "application/json"
    }

    response = requests.get(f"{FRESHRSS_API}/reader/api/0/stream/contents", headers=headers)

    if response.status_code == 401:
        raise Exception("Unauthorized: Check FreshRSS Auth token in .env.")

    if response.status_code != 200:
        raise Exception(f"Failed to fetch FreshRSS articles: {response.text}")

    articles = []
    today = datetime.now().date()
    # Only uncomment if you are running script at midnight or after.
    # today = (datetime.now() - timedelta(days=1)).date()

    for entry in response.json().get("items", []):
        article_date = datetime.fromtimestamp(entry["published"]).date()
        if article_date == today:
            articles.append({
                "title": entry["title"],
                "url": entry["alternate"][0]["href"],
                "timestamp": entry["published"]
            })

    return articles


def get_clean_article_content(article_url):
    """
    Extracts clean article content from a URL using newspaper3k.

    Args:
        article_url (str): The URL of the article to fetch.

    Returns:
        str: The extracted article text or None if parsing fails.
    """
    try:
        article = Article(article_url)
        article.download()
        article.parse()
        return article.text
    except Exception:
        return None

def analyze_article(article):
    """
    Analyze an article using the OpenAI GPT API.

    Args:
        article (dict): A dictionary containing article information.

    Returns:
        str: The LLM-generated analysis in markdown format.
    """
    article_content = get_clean_article_content(article["url"])
    if not article_content:
        return f"**Skipping article:** *{article['title']}* (Could not extract content)."

    messages = [
        {"role": "system", "content": SYSTEM_PROMPT},
        {
            "role": "user",
            "content": f"**Article Title:** {article['title']}\n\n"
                       f"**Article Content:**\n{article_content}\n\n"
                       "### **Task:**\n"
                       "Analyze the above article and provide the requested details."
        }
    ]

    response = openai_client.chat.completions.create(
        model=OPENAI_MODEL,
        messages=messages,
        temperature=0.3
    )

    output = response.choices[0].message.content

    # **Fix LaTeX issue: Convert dollar amounts ($X, $X.X, $X,XXX) to inline code format**
    output = re.sub(r"(\$\s?\d[\d,\.]*)", r"`\1`", output)

    return output

def generate_consolidated_summary(articles_analysis):
    """
    Generate a high-level summary of all analyzed articles by passing the outputs
    back into ChatGPT for final consolidation.

    Args:
        articles_analysis (list): List of article analyses.

    Returns:
        str: Consolidated markdown-formatted summary.
    """
    messages = [
        {"role": "system", "content": (
            "You are a financial journalist tasked with summarizing multiple news analyses. "
            "You must provide a **cohesive final summary** of the articles, highlighting "
            "key trends, sentiment per company, and any major market implications.\n\n"
            "**Instructions:**\n"
            "- Aggregate all mentioned stock tickers, companies, and investments.\n"
            "- Provide **individual sentiment ratings** for each company/investment.\n"
            "- Summarize the market trends **based only on the articles analyzed**.\n"
            "- **Do not introduce additional financial opinions or speculations.**\n"
            "- Format the response in Markdown for structured readability."
        )},
        {
            "role": "user",
            "content": "Here are the analyzed articles:\n\n" + "\n\n".join(articles_analysis) +
                       "\n\n### **Now, generate the final consolidated market summary based on these analyses.**"
        }
    ]

    response = openai_client.chat.completions.create(
        model=OPENAI_MODEL,
        messages=messages,
        temperature=0.3
    )

    return response.choices[0].message.content


def display_analysis():
    """
    Fetch articles from FreshRSS, analyze them, and display summaries in markdown format.
    """
    articles = get_articles_published_today()

    if not articles:
        print("No articles published today.")
        return

    articles_analysis = []

    for article in articles:
        display(Markdown(f"## {article['title']}"))
        analysis = analyze_article(article)
        display(Markdown(analysis))
        articles_analysis.append(analysis)

    consolidated_summary = generate_consolidated_summary(articles_analysis)
    display(Markdown(consolidated_summary))


# Run the script
if __name__ == "__main__":
    try:
        display_analysis()
    except Exception as e:
        print(f"Error: {e}")